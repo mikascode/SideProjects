{
  "nbformat": 4,
  "nbformat_minor": 0,
  "metadata": {
    "colab": {
      "name": "StocksML.ipynb",
      "provenance": []
    },
    "kernelspec": {
      "name": "python3",
      "display_name": "Python 3"
    },
    "language_info": {
      "name": "python"
    }
  },
  "cells": [
    {
      "cell_type": "code",
      "execution_count": 180,
      "metadata": {
        "id": "hwkzyTYio0iK",
        "colab": {
          "base_uri": "https://localhost:8080/",
          "height": 270
        },
        "outputId": "b7677a39-df49-46a6-9973-206594b3f6d8"
      },
      "outputs": [
        {
          "output_type": "execute_result",
          "data": {
            "text/plain": [
              "           date  Feature1  Feature2  Feature3    Feature4  Feature5  Feature6  \\\n",
              "6     1/10/2017      7.36    169.00     18.80  2897671.00        97      29.0   \n",
              "16    1/24/2017      7.63    169.00     18.80  2876141.00        94      23.7   \n",
              "169   8/25/2017      8.11    175.76     19.31  3029710.00        94      18.9   \n",
              "178    9/7/2017      8.11    175.76     19.31  2934716.00        99      23.9   \n",
              "247  12/13/2017      9.10    178.47     20.05  3392755.59        94      11.9   \n",
              "\n",
              "     Feature7  Target  \n",
              "6     16.1882  389.60  \n",
              "16    16.0644  386.62  \n",
              "169   15.7504  410.64  \n",
              "178   15.1715  395.54  \n",
              "247   18.1726  461.17  "
            ],
            "text/html": [
              "\n",
              "  <div id=\"df-2ad78ca1-99e6-4589-b712-52229c386e99\">\n",
              "    <div class=\"colab-df-container\">\n",
              "      <div>\n",
              "<style scoped>\n",
              "    .dataframe tbody tr th:only-of-type {\n",
              "        vertical-align: middle;\n",
              "    }\n",
              "\n",
              "    .dataframe tbody tr th {\n",
              "        vertical-align: top;\n",
              "    }\n",
              "\n",
              "    .dataframe thead th {\n",
              "        text-align: right;\n",
              "    }\n",
              "</style>\n",
              "<table border=\"1\" class=\"dataframe\">\n",
              "  <thead>\n",
              "    <tr style=\"text-align: right;\">\n",
              "      <th></th>\n",
              "      <th>date</th>\n",
              "      <th>Feature1</th>\n",
              "      <th>Feature2</th>\n",
              "      <th>Feature3</th>\n",
              "      <th>Feature4</th>\n",
              "      <th>Feature5</th>\n",
              "      <th>Feature6</th>\n",
              "      <th>Feature7</th>\n",
              "      <th>Target</th>\n",
              "    </tr>\n",
              "  </thead>\n",
              "  <tbody>\n",
              "    <tr>\n",
              "      <th>6</th>\n",
              "      <td>1/10/2017</td>\n",
              "      <td>7.36</td>\n",
              "      <td>169.00</td>\n",
              "      <td>18.80</td>\n",
              "      <td>2897671.00</td>\n",
              "      <td>97</td>\n",
              "      <td>29.0</td>\n",
              "      <td>16.1882</td>\n",
              "      <td>389.60</td>\n",
              "    </tr>\n",
              "    <tr>\n",
              "      <th>16</th>\n",
              "      <td>1/24/2017</td>\n",
              "      <td>7.63</td>\n",
              "      <td>169.00</td>\n",
              "      <td>18.80</td>\n",
              "      <td>2876141.00</td>\n",
              "      <td>94</td>\n",
              "      <td>23.7</td>\n",
              "      <td>16.0644</td>\n",
              "      <td>386.62</td>\n",
              "    </tr>\n",
              "    <tr>\n",
              "      <th>169</th>\n",
              "      <td>8/25/2017</td>\n",
              "      <td>8.11</td>\n",
              "      <td>175.76</td>\n",
              "      <td>19.31</td>\n",
              "      <td>3029710.00</td>\n",
              "      <td>94</td>\n",
              "      <td>18.9</td>\n",
              "      <td>15.7504</td>\n",
              "      <td>410.64</td>\n",
              "    </tr>\n",
              "    <tr>\n",
              "      <th>178</th>\n",
              "      <td>9/7/2017</td>\n",
              "      <td>8.11</td>\n",
              "      <td>175.76</td>\n",
              "      <td>19.31</td>\n",
              "      <td>2934716.00</td>\n",
              "      <td>99</td>\n",
              "      <td>23.9</td>\n",
              "      <td>15.1715</td>\n",
              "      <td>395.54</td>\n",
              "    </tr>\n",
              "    <tr>\n",
              "      <th>247</th>\n",
              "      <td>12/13/2017</td>\n",
              "      <td>9.10</td>\n",
              "      <td>178.47</td>\n",
              "      <td>20.05</td>\n",
              "      <td>3392755.59</td>\n",
              "      <td>94</td>\n",
              "      <td>11.9</td>\n",
              "      <td>18.1726</td>\n",
              "      <td>461.17</td>\n",
              "    </tr>\n",
              "  </tbody>\n",
              "</table>\n",
              "</div>\n",
              "      <button class=\"colab-df-convert\" onclick=\"convertToInteractive('df-2ad78ca1-99e6-4589-b712-52229c386e99')\"\n",
              "              title=\"Convert this dataframe to an interactive table.\"\n",
              "              style=\"display:none;\">\n",
              "        \n",
              "  <svg xmlns=\"http://www.w3.org/2000/svg\" height=\"24px\"viewBox=\"0 0 24 24\"\n",
              "       width=\"24px\">\n",
              "    <path d=\"M0 0h24v24H0V0z\" fill=\"none\"/>\n",
              "    <path d=\"M18.56 5.44l.94 2.06.94-2.06 2.06-.94-2.06-.94-.94-2.06-.94 2.06-2.06.94zm-11 1L8.5 8.5l.94-2.06 2.06-.94-2.06-.94L8.5 2.5l-.94 2.06-2.06.94zm10 10l.94 2.06.94-2.06 2.06-.94-2.06-.94-.94-2.06-.94 2.06-2.06.94z\"/><path d=\"M17.41 7.96l-1.37-1.37c-.4-.4-.92-.59-1.43-.59-.52 0-1.04.2-1.43.59L10.3 9.45l-7.72 7.72c-.78.78-.78 2.05 0 2.83L4 21.41c.39.39.9.59 1.41.59.51 0 1.02-.2 1.41-.59l7.78-7.78 2.81-2.81c.8-.78.8-2.07 0-2.86zM5.41 20L4 18.59l7.72-7.72 1.47 1.35L5.41 20z\"/>\n",
              "  </svg>\n",
              "      </button>\n",
              "      \n",
              "  <style>\n",
              "    .colab-df-container {\n",
              "      display:flex;\n",
              "      flex-wrap:wrap;\n",
              "      gap: 12px;\n",
              "    }\n",
              "\n",
              "    .colab-df-convert {\n",
              "      background-color: #E8F0FE;\n",
              "      border: none;\n",
              "      border-radius: 50%;\n",
              "      cursor: pointer;\n",
              "      display: none;\n",
              "      fill: #1967D2;\n",
              "      height: 32px;\n",
              "      padding: 0 0 0 0;\n",
              "      width: 32px;\n",
              "    }\n",
              "\n",
              "    .colab-df-convert:hover {\n",
              "      background-color: #E2EBFA;\n",
              "      box-shadow: 0px 1px 2px rgba(60, 64, 67, 0.3), 0px 1px 3px 1px rgba(60, 64, 67, 0.15);\n",
              "      fill: #174EA6;\n",
              "    }\n",
              "\n",
              "    [theme=dark] .colab-df-convert {\n",
              "      background-color: #3B4455;\n",
              "      fill: #D2E3FC;\n",
              "    }\n",
              "\n",
              "    [theme=dark] .colab-df-convert:hover {\n",
              "      background-color: #434B5C;\n",
              "      box-shadow: 0px 1px 3px 1px rgba(0, 0, 0, 0.15);\n",
              "      filter: drop-shadow(0px 1px 2px rgba(0, 0, 0, 0.3));\n",
              "      fill: #FFFFFF;\n",
              "    }\n",
              "  </style>\n",
              "\n",
              "      <script>\n",
              "        const buttonEl =\n",
              "          document.querySelector('#df-2ad78ca1-99e6-4589-b712-52229c386e99 button.colab-df-convert');\n",
              "        buttonEl.style.display =\n",
              "          google.colab.kernel.accessAllowed ? 'block' : 'none';\n",
              "\n",
              "        async function convertToInteractive(key) {\n",
              "          const element = document.querySelector('#df-2ad78ca1-99e6-4589-b712-52229c386e99');\n",
              "          const dataTable =\n",
              "            await google.colab.kernel.invokeFunction('convertToInteractive',\n",
              "                                                     [key], {});\n",
              "          if (!dataTable) return;\n",
              "\n",
              "          const docLinkHtml = 'Like what you see? Visit the ' +\n",
              "            '<a target=\"_blank\" href=https://colab.research.google.com/notebooks/data_table.ipynb>data table notebook</a>'\n",
              "            + ' to learn more about interactive tables.';\n",
              "          element.innerHTML = '';\n",
              "          dataTable['output_type'] = 'display_data';\n",
              "          await google.colab.output.renderOutput(dataTable, element);\n",
              "          const docLink = document.createElement('div');\n",
              "          docLink.innerHTML = docLinkHtml;\n",
              "          element.appendChild(docLink);\n",
              "        }\n",
              "      </script>\n",
              "    </div>\n",
              "  </div>\n",
              "  "
            ]
          },
          "metadata": {},
          "execution_count": 180
        }
      ],
      "source": [
        "import numpy as num\n",
        "import pandas as pd \n",
        "import seaborn as sns\n",
        "import sklearn\n",
        "from sklearn.linear_model import LinearRegression\n",
        "from sklearn.model_selection import train_test_split\n",
        "from matplotlib import pyplot\n",
        "import matplotlib.pyplot as plt \n",
        "from sklearn.neighbors import KNeighborsClassifier\n",
        "from sklearn import neighbors\n",
        "from sklearn.preprocessing import StandardScaler\n",
        "from sklearn import svm\n",
        "\n",
        "##Cleaning the data, removing null rows \n",
        "df=pd.read_csv(\"MLData.csv\")\n",
        "df= df.dropna()\n",
        "#displaying the data\n",
        "df.head()\n",
        "\n"
      ]
    },
    {
      "cell_type": "markdown",
      "source": [
        "Now, I will be creating a correlation matrix. This will show me which values in the data most heavily effect the outcome. This way, I will get a good idea of which Features to use to train my model."
      ],
      "metadata": {
        "id": "KuPtyPHdEcvI"
      }
    },
    {
      "cell_type": "code",
      "source": [
        "plt.figure(figsize=(16, 16))\n",
        "sns.heatmap(df.corr().round(decimals=2), annot=True, center=0.0, vmin=-1.0, vmax=1.0, robust=True, cmap=\"Spectral\")\n",
        "plt.xticks(rotation=45, ha=\"right\", rotation_mode=\"anchor\")\n",
        "plt.yticks(rotation='horizontal', rotation_mode=\"anchor\")\n",
        "plt.show()"
      ],
      "metadata": {
        "colab": {
          "base_uri": "https://localhost:8080/",
          "height": 682
        },
        "id": "YuEh_Y3X4Ean",
        "outputId": "884dc64d-0c0d-4780-b0b1-58f2a2c5e7ab"
      },
      "execution_count": 125,
      "outputs": [
        {
          "output_type": "display_data",
          "data": {
            "text/plain": [
              "<Figure size 1152x1152 with 2 Axes>"
            ],
            "image/png": "[encoded data removed]"
          },
          "metadata": {
            "needs_background": "light"
          }
        }
      ]
    },
    {
      "cell_type": "markdown",
      "source": [
        " As seen by the matrix, values that are close to 1 or -1 have the higest correlation. These are colored in red, orange, green or blue. Very high correlation is colored in purple. \n",
        "\n",
        "The features that show the best correlations are Feature 1, Feature 2, Feature 3, Feature 4 and Feature 7. I will use these features to build my models. I will not be using Features 5 and 6 because they do not seem to heavily effect my data. "
      ],
      "metadata": {
        "id": "OP5Bbn_M40mq"
      }
    },
    {
      "cell_type": "code",
      "source": [
        "#dropping Feature 5 \n",
        "df.drop('Feature5',axis=1,inplace=True)\n"
      ],
      "metadata": {
        "id": "mXEjZpiS5Y1-"
      },
      "execution_count": 126,
      "outputs": []
    },
    {
      "cell_type": "code",
      "source": [
        "#dropping feature 6\n",
        "df.drop('Feature6',axis=1,inplace=True)\n"
      ],
      "metadata": {
        "id": "7KABJHrI7WZE"
      },
      "execution_count": 127,
      "outputs": []
    },
    {
      "cell_type": "code",
      "source": [
        "#Displaying the data with the dropped values\n",
        "df.head()"
      ],
      "metadata": {
        "colab": {
          "base_uri": "https://localhost:8080/",
          "height": 206
        },
        "id": "rLdxbzTc9CJH",
        "outputId": "5cd903bb-091e-4877-d44c-05b8c77c1516"
      },
      "execution_count": 128,
      "outputs": [
        {
          "output_type": "execute_result",
          "data": {
            "text/plain": [
              "           date  Feature1  Feature2  Feature3    Feature4  Feature7  Target\n",
              "6     1/10/2017      7.36    169.00     18.80  2897671.00   16.1882  389.60\n",
              "16    1/24/2017      7.63    169.00     18.80  2876141.00   16.0644  386.62\n",
              "169   8/25/2017      8.11    175.76     19.31  3029710.00   15.7504  410.64\n",
              "178    9/7/2017      8.11    175.76     19.31  2934716.00   15.1715  395.54\n",
              "247  12/13/2017      9.10    178.47     20.05  3392755.59   18.1726  461.17"
            ],
            "text/html": [
              "\n",
              "  <div id=\"df-8092536a-3e9e-4e2d-a6a9-abba2342ae4e\">\n",
              "    <div class=\"colab-df-container\">\n",
              "      <div>\n",
              "<style scoped>\n",
              "    .dataframe tbody tr th:only-of-type {\n",
              "        vertical-align: middle;\n",
              "    }\n",
              "\n",
              "    .dataframe tbody tr th {\n",
              "        vertical-align: top;\n",
              "    }\n",
              "\n",
              "    .dataframe thead th {\n",
              "        text-align: right;\n",
              "    }\n",
              "</style>\n",
              "<table border=\"1\" class=\"dataframe\">\n",
              "  <thead>\n",
              "    <tr style=\"text-align: right;\">\n",
              "      <th></th>\n",
              "      <th>date</th>\n",
              "      <th>Feature1</th>\n",
              "      <th>Feature2</th>\n",
              "      <th>Feature3</th>\n",
              "      <th>Feature4</th>\n",
              "      <th>Feature7</th>\n",
              "      <th>Target</th>\n",
              "    </tr>\n",
              "  </thead>\n",
              "  <tbody>\n",
              "    <tr>\n",
              "      <th>6</th>\n",
              "      <td>1/10/2017</td>\n",
              "      <td>7.36</td>\n",
              "      <td>169.00</td>\n",
              "      <td>18.80</td>\n",
              "      <td>2897671.00</td>\n",
              "      <td>16.1882</td>\n",
              "      <td>389.60</td>\n",
              "    </tr>\n",
              "    <tr>\n",
              "      <th>16</th>\n",
              "      <td>1/24/2017</td>\n",
              "      <td>7.63</td>\n",
              "      <td>169.00</td>\n",
              "      <td>18.80</td>\n",
              "      <td>2876141.00</td>\n",
              "      <td>16.0644</td>\n",
              "      <td>386.62</td>\n",
              "    </tr>\n",
              "    <tr>\n",
              "      <th>169</th>\n",
              "      <td>8/25/2017</td>\n",
              "      <td>8.11</td>\n",
              "      <td>175.76</td>\n",
              "      <td>19.31</td>\n",
              "      <td>3029710.00</td>\n",
              "      <td>15.7504</td>\n",
              "      <td>410.64</td>\n",
              "    </tr>\n",
              "    <tr>\n",
              "      <th>178</th>\n",
              "      <td>9/7/2017</td>\n",
              "      <td>8.11</td>\n",
              "      <td>175.76</td>\n",
              "      <td>19.31</td>\n",
              "      <td>2934716.00</td>\n",
              "      <td>15.1715</td>\n",
              "      <td>395.54</td>\n",
              "    </tr>\n",
              "    <tr>\n",
              "      <th>247</th>\n",
              "      <td>12/13/2017</td>\n",
              "      <td>9.10</td>\n",
              "      <td>178.47</td>\n",
              "      <td>20.05</td>\n",
              "      <td>3392755.59</td>\n",
              "      <td>18.1726</td>\n",
              "      <td>461.17</td>\n",
              "    </tr>\n",
              "  </tbody>\n",
              "</table>\n",
              "</div>\n",
              "      <button class=\"colab-df-convert\" onclick=\"convertToInteractive('df-8092536a-3e9e-4e2d-a6a9-abba2342ae4e')\"\n",
              "              title=\"Convert this dataframe to an interactive table.\"\n",
              "              style=\"display:none;\">\n",
              "        \n",
              "  <svg xmlns=\"http://www.w3.org/2000/svg\" height=\"24px\"viewBox=\"0 0 24 24\"\n",
              "       width=\"24px\">\n",
              "    <path d=\"M0 0h24v24H0V0z\" fill=\"none\"/>\n",
              "    <path d=\"M18.56 5.44l.94 2.06.94-2.06 2.06-.94-2.06-.94-.94-2.06-.94 2.06-2.06.94zm-11 1L8.5 8.5l.94-2.06 2.06-.94-2.06-.94L8.5 2.5l-.94 2.06-2.06.94zm10 10l.94 2.06.94-2.06 2.06-.94-2.06-.94-.94-2.06-.94 2.06-2.06.94z\"/><path d=\"M17.41 7.96l-1.37-1.37c-.4-.4-.92-.59-1.43-.59-.52 0-1.04.2-1.43.59L10.3 9.45l-7.72 7.72c-.78.78-.78 2.05 0 2.83L4 21.41c.39.39.9.59 1.41.59.51 0 1.02-.2 1.41-.59l7.78-7.78 2.81-2.81c.8-.78.8-2.07 0-2.86zM5.41 20L4 18.59l7.72-7.72 1.47 1.35L5.41 20z\"/>\n",
              "  </svg>\n",
              "      </button>\n",
              "      \n",
              "  <style>\n",
              "    .colab-df-container {\n",
              "      display:flex;\n",
              "      flex-wrap:wrap;\n",
              "      gap: 12px;\n",
              "    }\n",
              "\n",
              "    .colab-df-convert {\n",
              "      background-color: #E8F0FE;\n",
              "      border: none;\n",
              "      border-radius: 50%;\n",
              "      cursor: pointer;\n",
              "      display: none;\n",
              "      fill: #1967D2;\n",
              "      height: 32px;\n",
              "      padding: 0 0 0 0;\n",
              "      width: 32px;\n",
              "    }\n",
              "\n",
              "    .colab-df-convert:hover {\n",
              "      background-color: #E2EBFA;\n",
              "      box-shadow: 0px 1px 2px rgba(60, 64, 67, 0.3), 0px 1px 3px 1px rgba(60, 64, 67, 0.15);\n",
              "      fill: #174EA6;\n",
              "    }\n",
              "\n",
              "    [theme=dark] .colab-df-convert {\n",
              "      background-color: #3B4455;\n",
              "      fill: #D2E3FC;\n",
              "    }\n",
              "\n",
              "    [theme=dark] .colab-df-convert:hover {\n",
              "      background-color: #434B5C;\n",
              "      box-shadow: 0px 1px 3px 1px rgba(0, 0, 0, 0.15);\n",
              "      filter: drop-shadow(0px 1px 2px rgba(0, 0, 0, 0.3));\n",
              "      fill: #FFFFFF;\n",
              "    }\n",
              "  </style>\n",
              "\n",
              "      <script>\n",
              "        const buttonEl =\n",
              "          document.querySelector('#df-8092536a-3e9e-4e2d-a6a9-abba2342ae4e button.colab-df-convert');\n",
              "        buttonEl.style.display =\n",
              "          google.colab.kernel.accessAllowed ? 'block' : 'none';\n",
              "\n",
              "        async function convertToInteractive(key) {\n",
              "          const element = document.querySelector('#df-8092536a-3e9e-4e2d-a6a9-abba2342ae4e');\n",
              "          const dataTable =\n",
              "            await google.colab.kernel.invokeFunction('convertToInteractive',\n",
              "                                                     [key], {});\n",
              "          if (!dataTable) return;\n",
              "\n",
              "          const docLinkHtml = 'Like what you see? Visit the ' +\n",
              "            '<a target=\"_blank\" href=https://colab.research.google.com/notebooks/data_table.ipynb>data table notebook</a>'\n",
              "            + ' to learn more about interactive tables.';\n",
              "          element.innerHTML = '';\n",
              "          dataTable['output_type'] = 'display_data';\n",
              "          await google.colab.output.renderOutput(dataTable, element);\n",
              "          const docLink = document.createElement('div');\n",
              "          docLink.innerHTML = docLinkHtml;\n",
              "          element.appendChild(docLink);\n",
              "        }\n",
              "      </script>\n",
              "    </div>\n",
              "  </div>\n",
              "  "
            ]
          },
          "metadata": {},
          "execution_count": 128
        }
      ]
    },
    {
      "cell_type": "code",
      "source": [
        "#Now, I am defining my x data set and y data set.\n",
        "#We want to predict the target value using the Features. \n",
        "#Hence, the features are our x data, and the Target is our y data. \n",
        "\n",
        "x_data = df[['Feature1', 'Feature2', 'Feature3', 'Feature4', 'Feature7']]\n",
        "y_data= df['Target']"
      ],
      "metadata": {
        "id": "NNCobims9E3y"
      },
      "execution_count": 129,
      "outputs": []
    },
    {
      "cell_type": "code",
      "source": [
        "#this splits the data into testing and training data \n",
        "X_train, X_test, y_train, y_test = train_test_split(x_data,y_data, random_state=0)\n",
        "\n",
        "\n"
      ],
      "metadata": {
        "id": "blMjWFhn-Ii1"
      },
      "execution_count": 130,
      "outputs": []
    },
    {
      "cell_type": "markdown",
      "source": [
        ""
      ],
      "metadata": {
        "id": "K-xB0Gw8-_R9"
      }
    },
    {
      "cell_type": "code",
      "source": [
        "#Here, I am defining my regression model as a Liner Regressor \n",
        "regression_model=LinearRegression()\n",
        "#Feeding †he model my x training data and y training data\n",
        "regression_model.fit(X_train,y_train)\n"
      ],
      "metadata": {
        "colab": {
          "base_uri": "https://localhost:8080/"
        },
        "id": "GQAilolf-_iX",
        "outputId": "f1af9735-3ca0-4e21-ec66-6f4fd8aeef56"
      },
      "execution_count": 131,
      "outputs": [
        {
          "output_type": "execute_result",
          "data": {
            "text/plain": [
              "LinearRegression()"
            ]
          },
          "metadata": {},
          "execution_count": 131
        }
      ]
    },
    {
      "cell_type": "code",
      "source": [
        "#Now, I am using my regressor to predict the values using my testing data \n",
        "predicted_values=regression_model.predict(X_test)"
      ],
      "metadata": {
        "id": "oVR8B69gCxGA"
      },
      "execution_count": 132,
      "outputs": []
    },
    {
      "cell_type": "code",
      "source": [
        "#Now, I am creating a table to show my actual values vs my predicted ones\n",
        "dfframe=pd.DataFrame(y_test, predicted_values)\n",
        "dfr= pd.DataFrame({'Actual': y_test, 'Predicted': predicted_values})\n",
        "print(dfr)"
      ],
      "metadata": {
        "colab": {
          "base_uri": "https://localhost:8080/"
        },
        "id": "gHr1L9iLC9u3",
        "outputId": "362808f7-2ccb-483e-e669-5a6627fc0a8c"
      },
      "execution_count": 133,
      "outputs": [
        {
          "output_type": "stream",
          "name": "stdout",
          "text": [
            "     Actual   Predicted\n",
            "916  381.12  381.387664\n",
            "552  434.12  431.804424\n",
            "830  376.60  380.833901\n",
            "437  471.96  477.480151\n",
            "995  410.10  414.024060\n",
            "..      ...         ...\n",
            "735  477.97  473.765768\n",
            "423  465.69  470.609089\n",
            "846  346.02  344.788059\n",
            "568  429.74  427.226000\n",
            "636  452.63  451.220569\n",
            "\n",
            "[225 rows x 2 columns]\n"
          ]
        }
      ]
    },
    {
      "cell_type": "markdown",
      "source": [
        "## Creating a Decision Tree Regressor \n"
      ],
      "metadata": {
        "id": "S3AX9rojY80g"
      }
    },
    {
      "cell_type": "code",
      "source": [
        "\n",
        "#Loading up my x data \n",
        "x_data = df[['Feature1', 'Feature2', 'Feature3', 'Feature4', 'Feature7']]\n",
        "#Loading up my Y data, what I want to predict \n",
        "y_data= df['Target']\n",
        "#importing the Decision Tree Regressor Model \n",
        "from sklearn.tree import DecisionTreeRegressor\n",
        "#creating the Decision Tree \n",
        "dt=DecisionTreeRegressor(random_state=50)\n",
        "#loading in my x and y data \n",
        "#this splits the data into testing and training data, just like we did in linear regression \n",
        "X_train, X_test, y_train, y_test = train_test_split(x_data,y_data, random_state=0)\n",
        "#feeding this data in my model \n",
        "dt.fit(X_train,y_train) \n",
        "#now, predicting values \n",
        "y_pred_dt= dt.predict(X_test)\n",
        "#creating a table to display results\n",
        "dfframe=pd.DataFrame(y_test, y_pred_dt)\n",
        "dfr2= pd.DataFrame({'Actual': y_test, 'Predicted': y_pred_dt})\n",
        "print(dfr2)"
      ],
      "metadata": {
        "colab": {
          "base_uri": "https://localhost:8080/"
        },
        "id": "bUFchXP_SB4Q",
        "outputId": "01c285d5-6ce0-404f-9828-aa09c0e338d5"
      },
      "execution_count": 179,
      "outputs": [
        {
          "output_type": "stream",
          "name": "stdout",
          "text": [
            "     Actual  Predicted\n",
            "916  381.12     381.75\n",
            "552  434.12     433.10\n",
            "830  376.60     375.84\n",
            "437  471.96     472.47\n",
            "995  410.10     408.67\n",
            "..      ...        ...\n",
            "735  477.97     478.62\n",
            "423  465.69     463.08\n",
            "846  346.02     350.26\n",
            "568  429.74     429.74\n",
            "636  452.63     452.62\n",
            "\n",
            "[225 rows x 2 columns]\n"
          ]
        }
      ]
    }
  ]
}